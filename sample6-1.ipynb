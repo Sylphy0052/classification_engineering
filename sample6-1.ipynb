{
 "cells": [
  {
   "cell_type": "code",
   "execution_count": 1,
   "metadata": {},
   "outputs": [],
   "source": [
    "import numpy as np\n",
    "import matplotlib.pyplot as plt\n",
    "from scipy.spatial import ConvexHull\n",
    "from scipy.interpolate import interp1d"
   ]
  },
  {
   "cell_type": "code",
   "execution_count": 2,
   "metadata": {},
   "outputs": [],
   "source": [
    "class FCM:\n",
    "    def __init__(self, data, C, m, N, Q):\n",
    "        self.data = data\n",
    "        self.C = C\n",
    "        self.m = m\n",
    "        self.N = N\n",
    "        self.Q = Q\n",
    "        \n",
    "    def dist(self, x, v):\n",
    "        return np.linalg.norm(x - v)\n",
    "    \n",
    "    def updateMember(self, u, v):\n",
    "        new_u = [np.array([None] * self.C) for i in range(self.N)]\n",
    "        for i in range(self.N):\n",
    "            for j in range(self.C):\n",
    "                # if d = 0\n",
    "                # else\n",
    "                # otherwise\n",
    "                new_u[i][j] = 1.0 / sum([(self.dist(self.data[i], v[j]) / self.dist(self.data[i], v[k])) ** (1.0 / (self.m - 1)) for k in range(self.C)])\n",
    "            \n",
    "        return new_u\n",
    "    \n",
    "    def updateCluster(self, u):\n",
    "        v = [np.array([0.] * len(self.data)) for i in range(self.C)]\n",
    "        for i in range(self.C):\n",
    "            v[i] = sum([u[j][i] ** self.m * np.array(self.data[j]) for j in range(self.N)]) / sum([u[j][i] ** self.m for j in range(self.N)])\n",
    "        \n",
    "        return v\n",
    "        \n",
    "    def c_means(self):\n",
    "        u = [np.random.random(self.C) for i in range(self.N)]\n",
    "        u = [u[i] / sum(u[i]) for i in range(self.N)]\n",
    "        \n",
    "        # 1. Set initial cluster centers v1, ..., vc(randomly)\n",
    "        v = [np.random.random(self.Q) for i in range(self.C)]\n",
    "        \n",
    "        while True:\n",
    "            tmp = u\n",
    "            # 2. Membership updating\n",
    "            u = self.updateMember(u, v)\n",
    "            \n",
    "            # 3. Cluster center updating\n",
    "            v = self.updateCluster(u)\n",
    "            \n",
    "            # 4. If Membership u converges, output and terminate\n",
    "            diff = sum([np.linalg.norm(tmp[i] - u[i]) for i in range(self.N)])\n",
    "            \n",
    "            if diff < 0.0001:\n",
    "                break\n",
    "               \n",
    "        self.v = v\n",
    "        return u\n",
    "    \n",
    "    def classificationFunction(self, data):\n",
    "        for x in data:\n",
    "            u = np.zeros(self.C)\n",
    "            print(\"---data : {}---\".format(x))\n",
    "            for i in range(self.C):\n",
    "                u[i] = 1.0 / sum([(self.dist(x, self.v[i]) / self.dist(x, self.v[j])) ** (1.0 / (self.m - 1)) for j in range(self.C)])\n",
    "                print(\"u{}(x): {}\".format(i, u[i]))\n",
    "            print(\"Sum: {}\".format(sum(u)))"
   ]
  },
  {
   "cell_type": "code",
   "execution_count": 3,
   "metadata": {},
   "outputs": [],
   "source": [
    "def classifyFCM(N, Q, data, C):\n",
    "    for m in [1.1, 1.3, 1.5, 2.0]:\n",
    "        print(\"m: {}\".format(m))\n",
    "        fcm = FCM(data, C, m, N, Q)\n",
    "        u = fcm.c_means()\n",
    "        n = 1\n",
    "        d = np.random.rand(n, Q)\n",
    "        fcm.classificationFunction(d)"
   ]
  },
  {
   "cell_type": "code",
   "execution_count": 4,
   "metadata": {},
   "outputs": [],
   "source": [
    "def main():\n",
    "    N = 100 # データ数\n",
    "    Q = 2 # 次元\n",
    "    data = np.random.rand(N, Q)\n",
    "    C = 5 # クラスタ数\n",
    "#     m = 1.3 # fuzzification parameter\n",
    "    classifyFCM(N, Q, data, C)"
   ]
  },
  {
   "cell_type": "code",
   "execution_count": 5,
   "metadata": {},
   "outputs": [
    {
     "name": "stdout",
     "output_type": "stream",
     "text": [
      "m: 1.1\n",
      "---data : [0.48889444 0.66719429]---\n",
      "u0(x): 0.00033470003351409927\n",
      "u1(x): 0.0004563755323167377\n",
      "u2(x): 0.00039504954815207795\n",
      "u3(x): 0.010232894703487242\n",
      "u4(x): 0.9885809801825297\n",
      "Sum: 0.9999999999999999\n",
      "m: 1.3\n",
      "---data : [0.61999402 0.6756594 ]---\n",
      "u0(x): 0.14261538907519772\n",
      "u1(x): 0.02338713965918872\n",
      "u2(x): 0.03337636017063816\n",
      "u3(x): 0.08516321363608091\n",
      "u4(x): 0.7154578974588944\n",
      "Sum: 1.0\n",
      "m: 1.5\n",
      "---data : [0.95364467 0.04571247]---\n",
      "u0(x): 0.16121844112788317\n",
      "u1(x): 0.5249745895366734\n",
      "u2(x): 0.0759912673551402\n",
      "u3(x): 0.10360646387381355\n",
      "u4(x): 0.1342092381064896\n",
      "Sum: 1.0\n",
      "m: 2.0\n",
      "---data : [0.63184404 0.51303623]---\n",
      "u0(x): 0.20631601423720694\n",
      "u1(x): 0.210326157704183\n",
      "u2(x): 0.08249874679879754\n",
      "u3(x): 0.12242340894677081\n",
      "u4(x): 0.3784356723130417\n",
      "Sum: 1.0\n"
     ]
    }
   ],
   "source": [
    "if __name__ == '__main__':\n",
    "    main()"
   ]
  },
  {
   "cell_type": "code",
   "execution_count": null,
   "metadata": {},
   "outputs": [],
   "source": []
  }
 ],
 "metadata": {
  "kernelspec": {
   "display_name": "Python 3",
   "language": "python",
   "name": "python3"
  },
  "language_info": {
   "codemirror_mode": {
    "name": "ipython",
    "version": 3
   },
   "file_extension": ".py",
   "mimetype": "text/x-python",
   "name": "python",
   "nbconvert_exporter": "python",
   "pygments_lexer": "ipython3",
   "version": "3.6.5"
  }
 },
 "nbformat": 4,
 "nbformat_minor": 2
}
