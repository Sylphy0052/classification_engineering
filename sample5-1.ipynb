{
 "cells": [
  {
   "cell_type": "code",
   "execution_count": 1,
   "metadata": {},
   "outputs": [],
   "source": [
    "import numpy as np\n",
    "import matplotlib.pyplot as plt\n",
    "from scipy.spatial import ConvexHull\n",
    "from scipy.interpolate import interp1d"
   ]
  },
  {
   "cell_type": "markdown",
   "metadata": {},
   "source": [
    "FCS\n",
    "1. Set initial cluster centers v1,...,vC(randomly)\n",
    "2. Membership updating:\n",
    "3. Cluster center updating\n",
    "4. If Membership u converges, output(u, V) and terminate. Otherwise, go to Step.2"
   ]
  },
  {
   "cell_type": "code",
   "execution_count": 2,
   "metadata": {},
   "outputs": [],
   "source": [
    "class FCM:\n",
    "    def __init__(self, data, C, m, N, Q):\n",
    "        self.data = data\n",
    "        self.C = C\n",
    "        self.m = m\n",
    "        self.N = N\n",
    "        self.Q = Q\n",
    "        \n",
    "    def dist(self, x, v):\n",
    "        return np.linalg.norm(x - v)\n",
    "    \n",
    "    def updateMember(self, u, v):\n",
    "        new_u = [np.array([None] * self.C) for i in range(self.N)]\n",
    "        for i in range(self.N):\n",
    "            for j in range(self.C):\n",
    "                # if d = 0\n",
    "                # else\n",
    "                # otherwise\n",
    "                new_u[i][j] = 1.0 / sum([(self.dist(self.data[i], v[j]) / self.dist(self.data[i], v[k])) ** (1.0 / (self.m - 1)) for k in range(self.C)])\n",
    "            \n",
    "        return new_u\n",
    "    \n",
    "    def updateCluster(self, u):\n",
    "        v = [np.array([0.] * len(self.data)) for i in range(self.C)]\n",
    "        for i in range(self.C):\n",
    "            v[i] = sum([u[j][i] ** self.m * np.array(self.data[j]) for j in range(self.N)]) / sum([u[j][i] ** self.m for j in range(self.N)])\n",
    "        \n",
    "        return v\n",
    "        \n",
    "    def c_means(self):\n",
    "        u = [np.random.random(self.C) for i in range(self.N)]\n",
    "        u = [u[i] / sum(u[i]) for i in range(self.N)]\n",
    "        \n",
    "        # 1. Set initial cluster centers v1, ..., vc(randomly)\n",
    "        v = [np.random.random(self.Q) for i in range(self.C)]\n",
    "        \n",
    "        while True:\n",
    "            tmp = u\n",
    "            # 2. Membership updating\n",
    "            u = self.updateMember(u, v)\n",
    "            \n",
    "            # 3. Cluster center updating\n",
    "            v = self.updateCluster(u)\n",
    "            \n",
    "            # 4. If Membership u converges, output and terminate\n",
    "            diff = sum([np.linalg.norm(tmp[i] - u[i]) for i in range(self.N)])\n",
    "            \n",
    "            if diff < 0.0001:\n",
    "                break\n",
    "                       \n",
    "        return u"
   ]
  },
  {
   "cell_type": "code",
   "execution_count": 3,
   "metadata": {},
   "outputs": [],
   "source": [
    "def target2Color(target):\n",
    "    if type(target) == np.ndarray:\n",
    "        return (target[0], target[1], target[2])\n",
    "    else:\n",
    "        return \"rgb\"[target]"
   ]
  },
  {
   "cell_type": "code",
   "execution_count": 4,
   "metadata": {},
   "outputs": [],
   "source": [
    "def plot(data, u, C, N):\n",
    "#     method1\n",
    "#     X = [i[0] for i in data]\n",
    "#     Y = [i[1] for i in data]\n",
    "\n",
    "#     plt.xlim(-0.1, 1.1)\n",
    "#     plt.ylim(-0.1, 1.1)\n",
    "    \n",
    "#     plt.scatter(X, Y, c=[target2Color(t) for t in u])\n",
    "            \n",
    "#     plt.show()\n",
    "#     plt.close('all')\n",
    "\n",
    "#     method2\n",
    "    X = [i[0] for i in data]\n",
    "    Y = [i[1] for i in data]\n",
    "    plt.plot(X, Y, 'o')\n",
    "\n",
    "    plt.xlim(-0.1, 1.1)\n",
    "    plt.ylim(-0.1, 1.1)\n",
    "\n",
    "    for i in range(C):\n",
    "        P = []\n",
    "        for j in range(N):\n",
    "            if u[j][i] > 0.1:\n",
    "                P.append(data[j])\n",
    "        if P != []:\n",
    "            hull = ConvexHull(P)\n",
    "            x = [P[l][0] for l in hull.vertices]\n",
    "            y = [P[l][1] for l in hull.vertices]\n",
    "            orig_len = len(x)\n",
    "            x = x[-3:-1] + x + x[1:3]\n",
    "            y = y[-3:-1] + y + y[1:3]\n",
    "            t = np.arange(len(x))\n",
    "            ti = np.linspace(2, orig_len + 1, 10 * orig_len)\n",
    "            xi = interp1d(t, x, kind='cubic')(ti)\n",
    "            yi = interp1d(t, y, kind='cubic')(ti)\n",
    "            plt.fill(xi, yi, alpha=0.1)\n",
    "    plt.show()\n",
    "    plt.close('all')"
   ]
  },
  {
   "cell_type": "code",
   "execution_count": 5,
   "metadata": {},
   "outputs": [],
   "source": [
    "def main():\n",
    "    N = 100 # データ数\n",
    "    Q = 2 # 次元\n",
    "    data = np.random.rand(N, Q)\n",
    "    C = 5 # クラスタ数\n",
    "    m = 1.5 # fuzzification parameter\n",
    "    fcm = FCM(data, C, m, N, Q)\n",
    "    u = fcm.c_means()\n",
    "    plot(data, u, C, N)"
   ]
  },
  {
   "cell_type": "code",
   "execution_count": 6,
   "metadata": {},
   "outputs": [
    {
     "data": {
      "image/png": "[encoded data removed]",
      "text/plain": [
       "<Figure size 432x288 with 1 Axes>"
      ]
     },
     "metadata": {},
     "output_type": "display_data"
    }
   ],
   "source": [
    "if __name__ == '__main__':\n",
    "    main()"
   ]
  },
  {
   "cell_type": "code",
   "execution_count": null,
   "metadata": {},
   "outputs": [],
   "source": []
  }
 ],
 "metadata": {
  "kernelspec": {
   "display_name": "Python 3",
   "language": "python",
   "name": "python3"
  },
  "language_info": {
   "codemirror_mode": {
    "name": "ipython",
    "version": 3
   },
   "file_extension": ".py",
   "mimetype": "text/x-python",
   "name": "python",
   "nbconvert_exporter": "python",
   "pygments_lexer": "ipython3",
   "version": "3.6.5"
  }
 },
 "nbformat": 4,
 "nbformat_minor": 2
}
